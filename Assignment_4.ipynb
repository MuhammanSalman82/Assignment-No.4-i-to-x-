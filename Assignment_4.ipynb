{
  "nbformat": 4,
  "nbformat_minor": 0,
  "metadata": {
    "colab": {
      "provenance": []
    },
    "kernelspec": {
      "name": "python3",
      "display_name": "Python 3"
    },
    "language_info": {
      "name": "python"
    }
  },
  "cells": [
    {
      "cell_type": "code",
      "execution_count": 4,
      "metadata": {
        "id": "MvF-c8TLAjj2",
        "colab": {
          "base_uri": "https://localhost:8080/"
        },
        "outputId": "24431187-d388-40db-e605-599966537107"
      },
      "outputs": [
        {
          "output_type": "execute_result",
          "data": {
            "text/plain": [
              "['0301-1234567']"
            ]
          },
          "metadata": {},
          "execution_count": 4
        }
      ],
      "source": [
        "# Assignment#4 (i)\n",
        "# Extracting Phone Numbers\n",
        "# Raw Text: Extract all valid Pakistani phone numbers from a given text.\n",
        "# Text: Please contact me at 0301-1234567 or 042-35678901 for further details.\n",
        "\n",
        "import re\n",
        "text = \"\"\"\n",
        "Please contact me at 0301-1234567 or 042-35678901 for further details.\n",
        "\"\"\"\n",
        "pattern = r\"\\d{4}-\\d{7}\"\n",
        "a = re.findall(pattern, text)\n",
        "a"
      ]
    },
    {
      "cell_type": "code",
      "source": [
        "# Assignment#4 (ii): Validating Email Addresses\n",
        "# Raw Text: Validate email addresses according to Pakistani domain extensions (.pk).\n",
        "\n",
        "import re\n",
        "text = \"\"\"\n",
        "Contact us at info@example.com or support@domain.pk for assistance\n",
        "\"\"\"\n",
        "pattern = r\"\\b([\\w\\-\\.]+@[\\w]+\\.pk)\\b\"\n",
        "\n",
        "a = re.findall(pattern, text, re.MULTILINE)\n",
        "a"
      ],
      "metadata": {
        "colab": {
          "base_uri": "https://localhost:8080/"
        },
        "id": "JBxsoiLsykfF",
        "outputId": "407f2503-16ca-46ca-b5dc-034effffe4a0"
      },
      "execution_count": 7,
      "outputs": [
        {
          "output_type": "execute_result",
          "data": {
            "text/plain": [
              "['support@domain.pk']"
            ]
          },
          "metadata": {},
          "execution_count": 7
        }
      ]
    },
    {
      "cell_type": "code",
      "source": [
        "# Assignment#4 (iii): Extracting CNIC Numbers\n",
        "# Raw Text: Extract all Pakistani CNIC (Computerized National Identity Card) numbers from a given text.\n",
        "\n",
        "text = \"\"\"\n",
        "My CNIC# is 12345-6789012-3 and another one is 34567-8901234-5.\n",
        "\"\"\"\n",
        "pattern = r\"\\d{5}[-]\\d{7}[-]\\d\"\n",
        "a = re.findall(pattern, text)\n",
        "a"
      ],
      "metadata": {
        "colab": {
          "base_uri": "https://localhost:8080/"
        },
        "id": "H_g-ajVS0ItS",
        "outputId": "a614363a-3346-4f47-c678-fa2bd2a85621"
      },
      "execution_count": 11,
      "outputs": [
        {
          "output_type": "execute_result",
          "data": {
            "text/plain": [
              "['12345-6789012-3', '34567-8901234-5']"
            ]
          },
          "metadata": {},
          "execution_count": 11
        }
      ]
    },
    {
      "cell_type": "code",
      "source": [
        "# Assignment#4 (iv) : Identifying Urdu Words\n",
        "# Raw Text: Identify and extract Urdu words from a mixed English-Urdu text.\n",
        "# Example: Text: یہ sentence میں کچھ English words بھی ہیں۔\n",
        "\n",
        "text = \"\"\"\n",
        " یہ sentence میں کچھ English words بھی ہیں۔\n",
        "\"\"\"\n",
        "pattern = r\"\\b([^\\s\\-a-zA-Z]+\\b)\"\n",
        "\n",
        "a = re.findall(pattern, text, re.MULTILINE)\n",
        "a"
      ],
      "metadata": {
        "colab": {
          "base_uri": "https://localhost:8080/"
        },
        "id": "uoXsgk591prr",
        "outputId": "7b4fc955-3e7b-4e71-ed75-2908915e1908"
      },
      "execution_count": 12,
      "outputs": [
        {
          "output_type": "execute_result",
          "data": {
            "text/plain": [
              "['یہ', 'میں', 'کچھ', 'بھی', 'ہیں']"
            ]
          },
          "metadata": {},
          "execution_count": 12
        }
      ]
    },
    {
      "cell_type": "code",
      "source": [
        "# Assignment#4 (v): Finding Dates\n",
        "# Raw Text: Find and extract dates in the format DD-MM-YYYY from a given text.\n",
        "# Example: Text: The event will take place on 15-08-2023 and 23-09-2023.\n",
        "\n",
        "text = \"\"\"\n",
        "The event will be held on 15-08-2023 and 23-09-2023 respectively.\n",
        "\"\"\"\n",
        "pattern = r\"\\d{2}[-]\\d{2}[-]\\d{4}\"\n",
        "a = re.findall(pattern, text)\n",
        "a"
      ],
      "metadata": {
        "colab": {
          "base_uri": "https://localhost:8080/"
        },
        "id": "G_ygqfId2iwp",
        "outputId": "42e408cf-3b95-4d1e-80a6-8aa3919ecd48"
      },
      "execution_count": 13,
      "outputs": [
        {
          "output_type": "execute_result",
          "data": {
            "text/plain": [
              "['15-08-2023', '23-09-2023']"
            ]
          },
          "metadata": {},
          "execution_count": 13
        }
      ]
    },
    {
      "cell_type": "code",
      "source": [
        "# Assignment#4 (vi): Extracting URLs\n",
        "# Raw Text: Extract all URLs from a text that belong to Pakistani domains.\n",
        "# Example:Text: Visit http://www.example.pk or https://website.com.pk for more information.\n",
        "\n",
        "import re\n",
        "text = \"\"\"\n",
        "Visit http://www.example.pk or https://website.com.pk for more information.\n",
        "\"\"\"\n",
        "pattern = r\"\\b([https://]+[\\w]+\\.[\\w]+.pk)\\b\"\n",
        "a = re.findall(pattern, text, re.MULTILINE)\n",
        "a\n"
      ],
      "metadata": {
        "colab": {
          "base_uri": "https://localhost:8080/"
        },
        "id": "4L6_9WaS3uZY",
        "outputId": "a900184b-a872-46a4-86dd-95cf80c04003"
      },
      "execution_count": 14,
      "outputs": [
        {
          "output_type": "execute_result",
          "data": {
            "text/plain": [
              "['http://www.example.pk', 'https://website.com.pk']"
            ]
          },
          "metadata": {},
          "execution_count": 14
        }
      ]
    },
    {
      "cell_type": "code",
      "source": [
        "# Assignment#4 (vii): Analyzing Currency\n",
        "# Raw Text: Extract and analyze currency amounts in Pakistani Rupees (PKR) from a given text.\n",
        "# Example: Text: The product costs PKR 1500/-, while the deluxe version is priced at Rs. 2500/-.\n",
        "\n",
        "text = \"\"\"\n",
        "The product costs PKR 1500/-, while the deluxe version is priced at Rs. 2500/-.\n",
        "\"\"\"\n",
        "pattern = r\"[0-9]+\"\n",
        "a = re.findall(pattern, text)\n",
        "a"
      ],
      "metadata": {
        "colab": {
          "base_uri": "https://localhost:8080/"
        },
        "id": "xPxR73Ey4qnM",
        "outputId": "8e6e407f-22b1-4a76-9ffd-9fe4f4500785"
      },
      "execution_count": 15,
      "outputs": [
        {
          "output_type": "execute_result",
          "data": {
            "text/plain": [
              "['1500', '2500']"
            ]
          },
          "metadata": {},
          "execution_count": 15
        }
      ]
    },
    {
      "cell_type": "code",
      "source": [
        "# Assignment#4 (viii): Removing Punctuation\n",
        "# Raw Text: Remove all punctuation marks from a text while preserving Urdu characters.\n",
        "# Example: Text: کیا! آپ, یہاں؟\n",
        "\n",
        "import re\n",
        "text = \"\"\"\n",
        "کیا! آپ, یہاں؟\n",
        "\"\"\"\n",
        "pattern = r\"[^\\W]+\"\n",
        "a = re.findall(pattern, text, re.MULTILINE)\n",
        "a"
      ],
      "metadata": {
        "colab": {
          "base_uri": "https://localhost:8080/"
        },
        "id": "bknRvE-x5RmV",
        "outputId": "eace6bf1-781d-446f-ac3d-e7ed43f25c17"
      },
      "execution_count": 16,
      "outputs": [
        {
          "output_type": "execute_result",
          "data": {
            "text/plain": [
              "['کیا', 'آپ', 'یہاں']"
            ]
          },
          "metadata": {},
          "execution_count": 16
        }
      ]
    },
    {
      "cell_type": "code",
      "source": [
        "# Assignment#4 (ix): Extracting City Names\n",
        "# Raw Text: Extract names of Pakistani cities from a given text.\n",
        "# Example:Text: Lahore, Karachi, Islamabad, and Peshawar are major cities of Pakistan.\n",
        "\n",
        "text = \"\"\"\n",
        "Lahore, Karachi, Islamabad, and Peshawar are major cities of Pakistan.\n",
        "\"\"\"\n",
        "pattern = r\"(?:([\\w]+)\\,\\s([\\w]+)\\,\\s([\\w]+)\\,\\sand\\s([\\w]+))\"\n",
        "\n",
        "a = re.findall(pattern, text, re.MULTILINE)\n",
        "a"
      ],
      "metadata": {
        "colab": {
          "base_uri": "https://localhost:8080/"
        },
        "id": "OTKF2bW5526C",
        "outputId": "e3f538c4-dd73-49cc-eb50-dc584b186ba6"
      },
      "execution_count": 17,
      "outputs": [
        {
          "output_type": "execute_result",
          "data": {
            "text/plain": [
              "[('Lahore', 'Karachi', 'Islamabad', 'Peshawar')]"
            ]
          },
          "metadata": {},
          "execution_count": 17
        }
      ]
    },
    {
      "cell_type": "code",
      "source": [
        "# Assignment#4 (x): Analyzing Vehicle Numbers\n",
        "# Raw Text: Identify and extract Pakistani vehicle registration numbers (e.g., ABC-123) from a text.\n",
        "# Example:Text: I saw a car with the number plate LEA-567 near the market.\n",
        "\n",
        "text = \"\"\"\n",
        "I saw a car with the number plate LEA-567 near the market.\n",
        "\"\"\"\n",
        "pattern = r\"\\w{3}[-]\\d{3}\"\n",
        "a = re.findall(pattern, text)\n",
        "a"
      ],
      "metadata": {
        "colab": {
          "base_uri": "https://localhost:8080/"
        },
        "id": "OGKiIo9r6NoX",
        "outputId": "47f59529-4f85-4ec2-cb5a-690dee189e5d"
      },
      "execution_count": 18,
      "outputs": [
        {
          "output_type": "execute_result",
          "data": {
            "text/plain": [
              "['LEA-567']"
            ]
          },
          "metadata": {},
          "execution_count": 18
        }
      ]
    }
  ]
}